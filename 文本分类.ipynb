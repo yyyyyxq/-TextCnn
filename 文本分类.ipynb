{
 "cells": [
  {
   "cell_type": "code",
   "execution_count": 2,
   "id": "0822d3bd",
   "metadata": {},
   "outputs": [],
   "source": [
    "import torch\n",
    "import numpy as np\n",
    "import torch.nn as nn\n",
    "import torch.optim as optim\n",
    "import torch.utils.data as Data\n",
    "import torch.nn.functional as F\n",
    "import pandas as pd\n",
    "import jieba\n",
    "dtype = torch.FloatTensor\n",
    "device = torch.device(\"cuda\" if torch.cuda.is_available() else \"cpu\")\n"
   ]
  },
  {
   "cell_type": "code",
   "execution_count": 3,
   "id": "cfb2ac73",
   "metadata": {},
   "outputs": [
    {
     "name": "stderr",
     "output_type": "stream",
     "text": [
      "Building prefix dict from the default dictionary ...\n",
      "Loading model from cache C:\\Users\\86189\\AppData\\Local\\Temp\\jieba.cache\n",
      "Loading model cost 0.776 seconds.\n",
      "Prefix dict has been built successfully.\n"
     ]
    },
    {
     "name": "stdout",
     "output_type": "stream",
     "text": [
      "['备胎', '是', '硬伤', '！']\n"
     ]
    },
    {
     "data": {
      "text/html": [
       "<div>\n",
       "<style scoped>\n",
       "    .dataframe tbody tr th:only-of-type {\n",
       "        vertical-align: middle;\n",
       "    }\n",
       "\n",
       "    .dataframe tbody tr th {\n",
       "        vertical-align: top;\n",
       "    }\n",
       "\n",
       "    .dataframe thead th {\n",
       "        text-align: right;\n",
       "    }\n",
       "</style>\n",
       "<table border=\"1\" class=\"dataframe\">\n",
       "  <thead>\n",
       "    <tr style=\"text-align: right;\">\n",
       "      <th></th>\n",
       "      <th>Unnamed: 0</th>\n",
       "      <th>label</th>\n",
       "      <th>text</th>\n",
       "    </tr>\n",
       "  </thead>\n",
       "  <tbody>\n",
       "    <tr>\n",
       "      <th>0</th>\n",
       "      <td>0</td>\n",
       "      <td>0</td>\n",
       "      <td>备胎是硬伤！</td>\n",
       "    </tr>\n",
       "    <tr>\n",
       "      <th>1</th>\n",
       "      <td>1</td>\n",
       "      <td>0</td>\n",
       "      <td>要说不满意的话，那就是动力了，1.5自然吸气发动机对这款车有种小马拉大车的感觉。如今天气这么...</td>\n",
       "    </tr>\n",
       "    <tr>\n",
       "      <th>2</th>\n",
       "      <td>2</td>\n",
       "      <td>0</td>\n",
       "      <td>油耗显示13升还多一点，希望慢慢下降。没有倒车雷达真可恨</td>\n",
       "    </tr>\n",
       "    <tr>\n",
       "      <th>3</th>\n",
       "      <td>3</td>\n",
       "      <td>0</td>\n",
       "      <td>空调不太凉，应该是小问题。</td>\n",
       "    </tr>\n",
       "    <tr>\n",
       "      <th>4</th>\n",
       "      <td>4</td>\n",
       "      <td>0</td>\n",
       "      <td>1、后排座椅不能平放；2、科技感不强，还不如百万帝豪，最希望增加车联网的车机。像你好博越一样...</td>\n",
       "    </tr>\n",
       "    <tr>\n",
       "      <th>...</th>\n",
       "      <td>...</td>\n",
       "      <td>...</td>\n",
       "      <td>...</td>\n",
       "    </tr>\n",
       "    <tr>\n",
       "      <th>56695</th>\n",
       "      <td>56695</td>\n",
       "      <td>1</td>\n",
       "      <td>刹车！给人无比信心的刹车！高峰时段可以跑到100的，没有人会拘泥于80，这就是中环。这也是迅...</td>\n",
       "    </tr>\n",
       "    <tr>\n",
       "      <th>56696</th>\n",
       "      <td>56696</td>\n",
       "      <td>1</td>\n",
       "      <td>操控性好，性价比高，油耗低</td>\n",
       "    </tr>\n",
       "    <tr>\n",
       "      <th>56697</th>\n",
       "      <td>56697</td>\n",
       "      <td>0</td>\n",
       "      <td>空间有点小了本来想买凯翼7座的v3不给力要等两三个月才到车。</td>\n",
       "    </tr>\n",
       "    <tr>\n",
       "      <th>56698</th>\n",
       "      <td>56698</td>\n",
       "      <td>0</td>\n",
       "      <td>最不满意的地方就是没有自动挡的，为什么差速锁不是四驱标配啊，当时提车比较着急，现车没有差速锁...</td>\n",
       "    </tr>\n",
       "    <tr>\n",
       "      <th>56699</th>\n",
       "      <td>56699</td>\n",
       "      <td>0</td>\n",
       "      <td>车子自带音响系统十分破，没低音，还有车门内饰板共振的破丝响</td>\n",
       "    </tr>\n",
       "  </tbody>\n",
       "</table>\n",
       "<p>56700 rows × 3 columns</p>\n",
       "</div>"
      ],
      "text/plain": [
       "       Unnamed: 0  label                                               text\n",
       "0               0      0                                             备胎是硬伤！\n",
       "1               1      0  要说不满意的话，那就是动力了，1.5自然吸气发动机对这款车有种小马拉大车的感觉。如今天气这么...\n",
       "2               2      0                       油耗显示13升还多一点，希望慢慢下降。没有倒车雷达真可恨\n",
       "3               3      0                                      空调不太凉，应该是小问题。\n",
       "4               4      0  1、后排座椅不能平放；2、科技感不强，还不如百万帝豪，最希望增加车联网的车机。像你好博越一样...\n",
       "...           ...    ...                                                ...\n",
       "56695       56695      1  刹车！给人无比信心的刹车！高峰时段可以跑到100的，没有人会拘泥于80，这就是中环。这也是迅...\n",
       "56696       56696      1                                      操控性好，性价比高，油耗低\n",
       "56697       56697      0                     空间有点小了本来想买凯翼7座的v3不给力要等两三个月才到车。\n",
       "56698       56698      0  最不满意的地方就是没有自动挡的，为什么差速锁不是四驱标配啊，当时提车比较着急，现车没有差速锁...\n",
       "56699       56699      0                      车子自带音响系统十分破，没低音，还有车门内饰板共振的破丝响\n",
       "\n",
       "[56700 rows x 3 columns]"
      ]
     },
     "execution_count": 3,
     "metadata": {},
     "output_type": "execute_result"
    }
   ],
   "source": [
    "train=pd.read_csv('train.tsv', sep='\\t')\n",
    "sentences=[]\n",
    "for sen in train['text']:\n",
    "    sentences.append(jieba.lcut(sen))\n",
    "print(sentences[0])\n",
    "train"
   ]
  },
  {
   "cell_type": "code",
   "execution_count": 7,
   "id": "c4c584c9",
   "metadata": {},
   "outputs": [
    {
     "data": {
      "text/html": [
       "<div>\n",
       "<style scoped>\n",
       "    .dataframe tbody tr th:only-of-type {\n",
       "        vertical-align: middle;\n",
       "    }\n",
       "\n",
       "    .dataframe tbody tr th {\n",
       "        vertical-align: top;\n",
       "    }\n",
       "\n",
       "    .dataframe thead th {\n",
       "        text-align: right;\n",
       "    }\n",
       "</style>\n",
       "<table border=\"1\" class=\"dataframe\">\n",
       "  <thead>\n",
       "    <tr style=\"text-align: right;\">\n",
       "      <th></th>\n",
       "      <th>Unnamed: 0</th>\n",
       "      <th>label</th>\n",
       "      <th>text</th>\n",
       "    </tr>\n",
       "  </thead>\n",
       "  <tbody>\n",
       "    <tr>\n",
       "      <th>0</th>\n",
       "      <td>0</td>\n",
       "      <td>1</td>\n",
       "      <td>操控性舒服、油耗低，性价比高</td>\n",
       "    </tr>\n",
       "    <tr>\n",
       "      <th>1</th>\n",
       "      <td>1</td>\n",
       "      <td>0</td>\n",
       "      <td>动力的确有点点让我相信了up的确是个代步车而已!</td>\n",
       "    </tr>\n",
       "    <tr>\n",
       "      <th>2</th>\n",
       "      <td>2</td>\n",
       "      <td>1</td>\n",
       "      <td>1。车的外观很喜欢。2。省油，现在磨合期7.3，相信以后还会下降。</td>\n",
       "    </tr>\n",
       "    <tr>\n",
       "      <th>3</th>\n",
       "      <td>3</td>\n",
       "      <td>1</td>\n",
       "      <td>内饰的做工和用料同级别同价位最厚道的</td>\n",
       "    </tr>\n",
       "    <tr>\n",
       "      <th>4</th>\n",
       "      <td>4</td>\n",
       "      <td>0</td>\n",
       "      <td>减震系统太硬！</td>\n",
       "    </tr>\n",
       "    <tr>\n",
       "      <th>...</th>\n",
       "      <td>...</td>\n",
       "      <td>...</td>\n",
       "      <td>...</td>\n",
       "    </tr>\n",
       "    <tr>\n",
       "      <th>6295</th>\n",
       "      <td>6295</td>\n",
       "      <td>1</td>\n",
       "      <td>兄弟们玩车震蛮到位嘀！</td>\n",
       "    </tr>\n",
       "    <tr>\n",
       "      <th>6296</th>\n",
       "      <td>6296</td>\n",
       "      <td>1</td>\n",
       "      <td>空间大，减震性也非常好，而且那个波箱啊，换来这样的方便。</td>\n",
       "    </tr>\n",
       "    <tr>\n",
       "      <th>6297</th>\n",
       "      <td>6297</td>\n",
       "      <td>1</td>\n",
       "      <td>配置丰富</td>\n",
       "    </tr>\n",
       "    <tr>\n",
       "      <th>6298</th>\n",
       "      <td>6298</td>\n",
       "      <td>0</td>\n",
       "      <td>噪音太大，内饰做工非常粗糙。</td>\n",
       "    </tr>\n",
       "    <tr>\n",
       "      <th>6299</th>\n",
       "      <td>6299</td>\n",
       "      <td>0</td>\n",
       "      <td>高速的时候风噪还是很大的，胎噪也一样，悬挂反馈还是挺明显的。</td>\n",
       "    </tr>\n",
       "  </tbody>\n",
       "</table>\n",
       "<p>6300 rows × 3 columns</p>\n",
       "</div>"
      ],
      "text/plain": [
       "      Unnamed: 0  label                               text\n",
       "0              0      1                     操控性舒服、油耗低，性价比高\n",
       "1              1      0           动力的确有点点让我相信了up的确是个代步车而已!\n",
       "2              2      1  1。车的外观很喜欢。2。省油，现在磨合期7.3，相信以后还会下降。\n",
       "3              3      1                 内饰的做工和用料同级别同价位最厚道的\n",
       "4              4      0                            减震系统太硬！\n",
       "...          ...    ...                                ...\n",
       "6295        6295      1                        兄弟们玩车震蛮到位嘀！\n",
       "6296        6296      1       空间大，减震性也非常好，而且那个波箱啊，换来这样的方便。\n",
       "6297        6297      1                               配置丰富\n",
       "6298        6298      0                     噪音太大，内饰做工非常粗糙。\n",
       "6299        6299      0     高速的时候风噪还是很大的，胎噪也一样，悬挂反馈还是挺明显的。\n",
       "\n",
       "[6300 rows x 3 columns]"
      ]
     },
     "execution_count": 7,
     "metadata": {},
     "output_type": "execute_result"
    }
   ],
   "source": [
    "test=pd.read_csv('test.tsv', sep='\\t')\n",
    "test_sentences=[]\n",
    "for sen in test['text']:\n",
    "    test_sentences.append(jieba.lcut(sen))\n",
    "# print(sentences[0])\n",
    "test_labels=list(test['label'])\n",
    "labels=list(train['label'])\n",
    "test"
   ]
  },
  {
   "cell_type": "code",
   "execution_count": 8,
   "id": "1897cebd",
   "metadata": {},
   "outputs": [
    {
     "name": "stdout",
     "output_type": "stream",
     "text": [
      "91\n"
     ]
    }
   ],
   "source": [
    "# TextCNN Parameter\n",
    "sequence_length=0\n",
    "for i in sentences:\n",
    "    sequence_length=max(len(i),sequence_length)\n",
    "embedding_size = 6  \n",
    "num_classes = len(set(labels))  # num_classes=2\n",
    "batch_size = 3\n",
    "print(sequence_length)"
   ]
  },
  {
   "cell_type": "code",
   "execution_count": 9,
   "id": "729d61e1",
   "metadata": {},
   "outputs": [],
   "source": [
    "word2dic={}\n",
    "num=1\n",
    "for i in sentences:\n",
    "    for j in i:\n",
    "        if j not in word2dic:\n",
    "            word2dic[j]=num\n",
    "            num=num+1\n",
    "vocab_size = len(word2dic)+1"
   ]
  },
  {
   "cell_type": "code",
   "execution_count": 12,
   "id": "c42824cf",
   "metadata": {},
   "outputs": [],
   "source": [
    "def make_data(sentences, labels):\n",
    "  inputs = []\n",
    "  for sen in sentences:\n",
    "        temp=[0 for i in range(sequence_length)]\n",
    "        for word in range(len(sen)):\n",
    "            if sen[word] in word2dic:\n",
    "                temp[word]=word2dic[sen[word]]\n",
    "        inputs.append(temp)\n",
    "  targets = []\n",
    "  for out in labels:\n",
    "      targets.append(out) # To using Torch Softmax Loss function\n",
    "  return inputs, targets\n",
    "\n",
    "input_batch, target_batch = make_data(sentences, labels)\n",
    "input_batch, target_batch = torch.LongTensor(input_batch), torch.LongTensor(target_batch)\n",
    "dataset = Data.TensorDataset(input_batch, target_batch)\n",
    "loader = Data.DataLoader(dataset, batch_size, True)"
   ]
  },
  {
   "cell_type": "code",
   "execution_count": 26,
   "id": "c95796d0",
   "metadata": {},
   "outputs": [],
   "source": [
    "test_batch,test_target=make_data(test_sentences, test_labels)\n",
    "test_batch,test_target= torch.LongTensor(test_batch), torch.LongTensor(test_target)"
   ]
  },
  {
   "cell_type": "code",
   "execution_count": 19,
   "id": "fc717042",
   "metadata": {},
   "outputs": [],
   "source": [
    "class TextCNN(nn.Module):\n",
    "    def __init__(self):\n",
    "        super(TextCNN, self).__init__()\n",
    "        self.W = nn.Embedding(vocab_size, embedding_size)\n",
    "        output_channel = 3\n",
    "        self.conv = nn.Sequential(\n",
    "            nn.Conv2d(1, output_channel, (2, embedding_size)),\n",
    "            nn.ReLU(),\n",
    "            nn.MaxPool2d((2, 1)),\n",
    "        )\n",
    "        self.fc = nn.Linear(output_channel*45, num_classes)\n",
    "\n",
    "    def forward(self, X):\n",
    "      '''\n",
    "      X: [batch_size, sequence_length]\n",
    "      '''\n",
    "      batch_size = X.shape[0]\n",
    "      embedding_X = self.W(X) # [batch_size, sequence_length, embedding_size]\n",
    "      embedding_X = embedding_X.unsqueeze(1) # add channel(=1) [batch, channel(=1), sequence_length, embedding_size]\n",
    "      conved = self.conv(embedding_X) # [batch_size, output_channel*1*1]\n",
    "      flatten = conved.view(batch_size, -1)\n",
    "      output = self.fc(flatten)\n",
    "      return output"
   ]
  },
  {
   "cell_type": "code",
   "execution_count": 50,
   "id": "5ceee8c8",
   "metadata": {},
   "outputs": [
    {
     "name": "stdout",
     "output_type": "stream",
     "text": [
      "Epoch: 0001 loss = 0.011204\n",
      "查准率: 0.9233947870311506\n",
      "查全率: 0.920468948035488\n",
      "Epoch: 0002 loss = 0.126003\n",
      "查准率: 0.9394035532994924\n",
      "查全率: 0.938212927756654\n",
      "Epoch: 0003 loss = 0.014589\n",
      "查准率: 0.948791348600509\n",
      "查全率: 0.9451837769328264\n",
      "Epoch: 0004 loss = 0.081284\n",
      "查准率: 0.944251968503937\n",
      "查全率: 0.949936628643853\n",
      "Epoch: 0005 loss = 0.002561\n",
      "查准率: 0.9534735500318674\n",
      "查全率: 0.9480354879594424\n"
     ]
    }
   ],
   "source": [
    "model = TextCNN().to(device)\n",
    "criterion = nn.CrossEntropyLoss().to(device)\n",
    "optimizer = optim.Adam(model.parameters(), lr=1e-3)\n",
    "\n",
    "# Training\n",
    "for epoch in range(5):\n",
    "  for batch_x, batch_y in loader:\n",
    "    batch_x, batch_y = batch_x.to(device), batch_y.to(device)\n",
    "    pred = model(batch_x)\n",
    "    loss = criterion(pred, batch_y)\n",
    "\n",
    "    optimizer.zero_grad()\n",
    "    loss.backward()\n",
    "    optimizer.step()\n",
    "  # # Predict\n",
    "  model = model.eval()\n",
    "  predict = model(test_batch).data.max(1, keepdim=True)[1]\n",
    "  pred=[]\n",
    "  for i in list(predict):\n",
    "    for j in i:\n",
    "        pred.append(int(j))\n",
    "  real=[int(i) for i in test_target]\n",
    "  tp=0\n",
    "  tn=0\n",
    "  fp=0\n",
    "  fn=0\n",
    "  for i,j in zip(pred,real):\n",
    "    if i==1 and j==1:\n",
    "        tp=tp+1\n",
    "    if i==0 and j==0:\n",
    "        tn=tn+1\n",
    "    if i==1 and j==0:\n",
    "        fp=fp+1\n",
    "    if i==0 and j==1:\n",
    "        fn=fn+1\n",
    "  print('Epoch:','%04d' % (epoch + 1), 'loss =','{:.6f}'.format(loss))\n",
    "  print('查准率:',tp/(tp+fp))\n",
    "  print('查全率:',tp/(tp+fn))"
   ]
  },
  {
   "cell_type": "code",
   "execution_count": 69,
   "id": "4db2aed9",
   "metadata": {},
   "outputs": [
    {
     "name": "stdout",
     "output_type": "stream",
     "text": [
      "测试数据: 空间大，减震性也非常好，而且那个波箱啊，换来这样的方便。\n",
      "测试结果: 好评价\n",
      "**********\n",
      "测试数据: 配置丰富\n",
      "测试结果: 好评价\n",
      "**********\n",
      "测试数据: 噪音太大，内饰做工非常粗糙。\n",
      "测试结果: 差评价\n",
      "**********\n",
      "测试数据: 高速的时候风噪还是很大的，胎噪也一样，悬挂反馈还是挺明显的。\n",
      "测试结果: 差评价\n",
      "**********\n"
     ]
    }
   ],
   "source": [
    "for i in range(6296,6300):\n",
    "    print('测试数据:',test['text'][i])\n",
    "    if pred[i]==1:\n",
    "        print('测试结果:','好评价')\n",
    "    else:\n",
    "        print('测试结果:','差评价')\n",
    "    print('**********')"
   ]
  },
  {
   "cell_type": "code",
   "execution_count": 67,
   "id": "e1b0343e",
   "metadata": {},
   "outputs": [
    {
     "data": {
      "text/plain": [
       "<matplotlib.legend.Legend at 0x1e54a486c10>"
      ]
     },
     "execution_count": 67,
     "metadata": {},
     "output_type": "execute_result"
    },
    {
     "data": {
      "image/png": "[encoded data removed]",
      "text/plain": [
       "<Figure size 432x288 with 1 Axes>"
      ]
     },
     "metadata": {
      "needs_background": "light"
     },
     "output_type": "display_data"
    }
   ],
   "source": [
    "# roc曲线\n",
    "import matplotlib.pyplot as plt\n",
    "import numpy as np\n",
    "\n",
    "y_axis_data = [0,0.4,0.7,0.9451,0.9899,1,1] #x\n",
    "x_axis_data = [0,0.2,0.3,0.4,0.5,0.9534,1] #y\n",
    "plt.xlim(0, 1)\n",
    "\n",
    "plt.ylim(0, 1)\n",
    "plt.plot(x_axis_data, y_axis_data, 'b*--', alpha=0.5, linewidth=1, label='roc')#'bo-'表示蓝色实线，数据点实心原点标注\n",
    "plt.gca().set_aspect('equal', adjustable='box')\n",
    "plt.legend()  #显示上面的label"
   ]
  }
 ],
 "metadata": {
  "kernelspec": {
   "display_name": "Python 3",
   "language": "python",
   "name": "python3"
  },
  "language_info": {
   "codemirror_mode": {
    "name": "ipython",
    "version": 3
   },
   "file_extension": ".py",
   "mimetype": "text/x-python",
   "name": "python",
   "nbconvert_exporter": "python",
   "pygments_lexer": "ipython3",
   "version": "3.8.8"
  }
 },
 "nbformat": 4,
 "nbformat_minor": 5
}
